{
  "nbformat": 4,
  "nbformat_minor": 0,
  "metadata": {
    "colab": {
      "provenance": [],
      "include_colab_link": true
    },
    "kernelspec": {
      "name": "python3",
      "display_name": "Python 3"
    },
    "language_info": {
      "name": "python"
    },
    "widgets": {
      "application/vnd.jupyter.widget-state+json": {
        "b6c592d8f54f42ebbf18586443dd905a": {
          "model_module": "@jupyter-widgets/controls",
          "model_name": "DropdownModel",
          "model_module_version": "1.5.0",
          "state": {
            "_dom_classes": [],
            "_model_module": "@jupyter-widgets/controls",
            "_model_module_version": "1.5.0",
            "_model_name": "DropdownModel",
            "_options_labels": [
              "BOOTLOG.TXT",
              "DETLOG.TXT",
              "extracted_data.txt",
              "FRUNLOG.TXT",
              "installed_software.txt",
              "Logs data.txt",
              "NETLOG.TXT",
              "SETUPLOG.TXT",
              "startup_programs.txt",
              "suspicious_files.txt",
              "temp_debug_files.txt",
              "text data.txt"
            ],
            "_view_count": null,
            "_view_module": "@jupyter-widgets/controls",
            "_view_module_version": "1.5.0",
            "_view_name": "DropdownView",
            "description": "Select File:",
            "description_tooltip": null,
            "disabled": false,
            "index": 5,
            "layout": "IPY_MODEL_548be924c5324cfa9127dd12c8d2d950",
            "style": "IPY_MODEL_87c269257af3435787f5192af1ffdfe9"
          }
        },
        "548be924c5324cfa9127dd12c8d2d950": {
          "model_module": "@jupyter-widgets/base",
          "model_name": "LayoutModel",
          "model_module_version": "1.2.0",
          "state": {
            "_model_module": "@jupyter-widgets/base",
            "_model_module_version": "1.2.0",
            "_model_name": "LayoutModel",
            "_view_count": null,
            "_view_module": "@jupyter-widgets/base",
            "_view_module_version": "1.2.0",
            "_view_name": "LayoutView",
            "align_content": null,
            "align_items": null,
            "align_self": null,
            "border": null,
            "bottom": null,
            "display": null,
            "flex": null,
            "flex_flow": null,
            "grid_area": null,
            "grid_auto_columns": null,
            "grid_auto_flow": null,
            "grid_auto_rows": null,
            "grid_column": null,
            "grid_gap": null,
            "grid_row": null,
            "grid_template_areas": null,
            "grid_template_columns": null,
            "grid_template_rows": null,
            "height": null,
            "justify_content": null,
            "justify_items": null,
            "left": null,
            "margin": null,
            "max_height": null,
            "max_width": null,
            "min_height": null,
            "min_width": null,
            "object_fit": null,
            "object_position": null,
            "order": null,
            "overflow": null,
            "overflow_x": null,
            "overflow_y": null,
            "padding": null,
            "right": null,
            "top": null,
            "visibility": null,
            "width": null
          }
        },
        "87c269257af3435787f5192af1ffdfe9": {
          "model_module": "@jupyter-widgets/controls",
          "model_name": "DescriptionStyleModel",
          "model_module_version": "1.5.0",
          "state": {
            "_model_module": "@jupyter-widgets/controls",
            "_model_module_version": "1.5.0",
            "_model_name": "DescriptionStyleModel",
            "_view_count": null,
            "_view_module": "@jupyter-widgets/base",
            "_view_module_version": "1.2.0",
            "_view_name": "StyleView",
            "description_width": ""
          }
        }
      }
    }
  },
  "cells": [
    {
      "cell_type": "markdown",
      "metadata": {
        "id": "view-in-github",
        "colab_type": "text"
      },
      "source": [
        "<a href=\"https://colab.research.google.com/github/harshanand63/CodeAlpha_Titanic_Classification/blob/main/Copy_of_Final_Major_Project_Code.ipynb\" target=\"_parent\"><img src=\"https://colab.research.google.com/assets/colab-badge.svg\" alt=\"Open In Colab\"/></a>"
      ]
    },
    {
      "cell_type": "markdown",
      "source": [
        "Import Necessary Libraries"
      ],
      "metadata": {
        "id": "g8mei7ZKwHQ-"
      }
    },
    {
      "cell_type": "code",
      "execution_count": null,
      "metadata": {
        "colab": {
          "base_uri": "https://localhost:8080/"
        },
        "id": "dZDWGkMIwFdX",
        "outputId": "832b0128-6b85-483d-db40-8e6a6b65a39f"
      },
      "outputs": [
        {
          "output_type": "stream",
          "name": "stderr",
          "text": [
            "[nltk_data] Downloading package punkt to /root/nltk_data...\n",
            "[nltk_data]   Unzipping tokenizers/punkt.zip.\n",
            "[nltk_data] Downloading package stopwords to /root/nltk_data...\n",
            "[nltk_data]   Unzipping corpora/stopwords.zip.\n"
          ]
        },
        {
          "output_type": "execute_result",
          "data": {
            "text/plain": [
              "True"
            ]
          },
          "metadata": {},
          "execution_count": 1
        }
      ],
      "source": [
        "import pandas as pd\n",
        "import numpy as np\n",
        "import nltk\n",
        "import plotly.express as px\n",
        "import seaborn as sns\n",
        "import matplotlib.pyplot as plt\n",
        "import ipywidgets as widgets\n",
        "from sklearn.ensemble import IsolationForest\n",
        "from sklearn.feature_extraction.text import TfidfVectorizer\n",
        "from sklearn.metrics import accuracy_score, confusion_matrix, classification_report\n",
        "from google.colab import files\n",
        "\n",
        "# Download NLTK resources\n",
        "nltk.download('punkt')\n",
        "nltk.download('stopwords')"
      ]
    },
    {
      "cell_type": "markdown",
      "source": [
        "Upload and Select a File"
      ],
      "metadata": {
        "id": "7nugURuYwNEr"
      }
    },
    {
      "cell_type": "code",
      "source": [
        "uploaded_files = files.upload()\n",
        "file_names = list(uploaded_files.keys())\n",
        "\n",
        "file_selector = widgets.Dropdown(\n",
        "    options=file_names,\n",
        "    description='Select File:',\n",
        "    disabled=False,\n",
        ")\n",
        "display(file_selector)"
      ],
      "metadata": {
        "colab": {
          "base_uri": "https://localhost:8080/",
          "height": 487,
          "referenced_widgets": [
            "b6c592d8f54f42ebbf18586443dd905a",
            "548be924c5324cfa9127dd12c8d2d950",
            "87c269257af3435787f5192af1ffdfe9"
          ]
        },
        "id": "CAeS1qlNwQqJ",
        "outputId": "7d8d3ed0-4164-4adf-a82c-b855dece87cb"
      },
      "execution_count": null,
      "outputs": [
        {
          "output_type": "display_data",
          "data": {
            "text/plain": [
              "<IPython.core.display.HTML object>"
            ],
            "text/html": [
              "\n",
              "     <input type=\"file\" id=\"files-a5bbeb6a-3cb6-4f0a-bc7a-026f87e8aaa4\" name=\"files[]\" multiple disabled\n",
              "        style=\"border:none\" />\n",
              "     <output id=\"result-a5bbeb6a-3cb6-4f0a-bc7a-026f87e8aaa4\">\n",
              "      Upload widget is only available when the cell has been executed in the\n",
              "      current browser session. Please rerun this cell to enable.\n",
              "      </output>\n",
              "      <script>// Copyright 2017 Google LLC\n",
              "//\n",
              "// Licensed under the Apache License, Version 2.0 (the \"License\");\n",
              "// you may not use this file except in compliance with the License.\n",
              "// You may obtain a copy of the License at\n",
              "//\n",
              "//      http://www.apache.org/licenses/LICENSE-2.0\n",
              "//\n",
              "// Unless required by applicable law or agreed to in writing, software\n",
              "// distributed under the License is distributed on an \"AS IS\" BASIS,\n",
              "// WITHOUT WARRANTIES OR CONDITIONS OF ANY KIND, either express or implied.\n",
              "// See the License for the specific language governing permissions and\n",
              "// limitations under the License.\n",
              "\n",
              "/**\n",
              " * @fileoverview Helpers for google.colab Python module.\n",
              " */\n",
              "(function(scope) {\n",
              "function span(text, styleAttributes = {}) {\n",
              "  const element = document.createElement('span');\n",
              "  element.textContent = text;\n",
              "  for (const key of Object.keys(styleAttributes)) {\n",
              "    element.style[key] = styleAttributes[key];\n",
              "  }\n",
              "  return element;\n",
              "}\n",
              "\n",
              "// Max number of bytes which will be uploaded at a time.\n",
              "const MAX_PAYLOAD_SIZE = 100 * 1024;\n",
              "\n",
              "function _uploadFiles(inputId, outputId) {\n",
              "  const steps = uploadFilesStep(inputId, outputId);\n",
              "  const outputElement = document.getElementById(outputId);\n",
              "  // Cache steps on the outputElement to make it available for the next call\n",
              "  // to uploadFilesContinue from Python.\n",
              "  outputElement.steps = steps;\n",
              "\n",
              "  return _uploadFilesContinue(outputId);\n",
              "}\n",
              "\n",
              "// This is roughly an async generator (not supported in the browser yet),\n",
              "// where there are multiple asynchronous steps and the Python side is going\n",
              "// to poll for completion of each step.\n",
              "// This uses a Promise to block the python side on completion of each step,\n",
              "// then passes the result of the previous step as the input to the next step.\n",
              "function _uploadFilesContinue(outputId) {\n",
              "  const outputElement = document.getElementById(outputId);\n",
              "  const steps = outputElement.steps;\n",
              "\n",
              "  const next = steps.next(outputElement.lastPromiseValue);\n",
              "  return Promise.resolve(next.value.promise).then((value) => {\n",
              "    // Cache the last promise value to make it available to the next\n",
              "    // step of the generator.\n",
              "    outputElement.lastPromiseValue = value;\n",
              "    return next.value.response;\n",
              "  });\n",
              "}\n",
              "\n",
              "/**\n",
              " * Generator function which is called between each async step of the upload\n",
              " * process.\n",
              " * @param {string} inputId Element ID of the input file picker element.\n",
              " * @param {string} outputId Element ID of the output display.\n",
              " * @return {!Iterable<!Object>} Iterable of next steps.\n",
              " */\n",
              "function* uploadFilesStep(inputId, outputId) {\n",
              "  const inputElement = document.getElementById(inputId);\n",
              "  inputElement.disabled = false;\n",
              "\n",
              "  const outputElement = document.getElementById(outputId);\n",
              "  outputElement.innerHTML = '';\n",
              "\n",
              "  const pickedPromise = new Promise((resolve) => {\n",
              "    inputElement.addEventListener('change', (e) => {\n",
              "      resolve(e.target.files);\n",
              "    });\n",
              "  });\n",
              "\n",
              "  const cancel = document.createElement('button');\n",
              "  inputElement.parentElement.appendChild(cancel);\n",
              "  cancel.textContent = 'Cancel upload';\n",
              "  const cancelPromise = new Promise((resolve) => {\n",
              "    cancel.onclick = () => {\n",
              "      resolve(null);\n",
              "    };\n",
              "  });\n",
              "\n",
              "  // Wait for the user to pick the files.\n",
              "  const files = yield {\n",
              "    promise: Promise.race([pickedPromise, cancelPromise]),\n",
              "    response: {\n",
              "      action: 'starting',\n",
              "    }\n",
              "  };\n",
              "\n",
              "  cancel.remove();\n",
              "\n",
              "  // Disable the input element since further picks are not allowed.\n",
              "  inputElement.disabled = true;\n",
              "\n",
              "  if (!files) {\n",
              "    return {\n",
              "      response: {\n",
              "        action: 'complete',\n",
              "      }\n",
              "    };\n",
              "  }\n",
              "\n",
              "  for (const file of files) {\n",
              "    const li = document.createElement('li');\n",
              "    li.append(span(file.name, {fontWeight: 'bold'}));\n",
              "    li.append(span(\n",
              "        `(${file.type || 'n/a'}) - ${file.size} bytes, ` +\n",
              "        `last modified: ${\n",
              "            file.lastModifiedDate ? file.lastModifiedDate.toLocaleDateString() :\n",
              "                                    'n/a'} - `));\n",
              "    const percent = span('0% done');\n",
              "    li.appendChild(percent);\n",
              "\n",
              "    outputElement.appendChild(li);\n",
              "\n",
              "    const fileDataPromise = new Promise((resolve) => {\n",
              "      const reader = new FileReader();\n",
              "      reader.onload = (e) => {\n",
              "        resolve(e.target.result);\n",
              "      };\n",
              "      reader.readAsArrayBuffer(file);\n",
              "    });\n",
              "    // Wait for the data to be ready.\n",
              "    let fileData = yield {\n",
              "      promise: fileDataPromise,\n",
              "      response: {\n",
              "        action: 'continue',\n",
              "      }\n",
              "    };\n",
              "\n",
              "    // Use a chunked sending to avoid message size limits. See b/62115660.\n",
              "    let position = 0;\n",
              "    do {\n",
              "      const length = Math.min(fileData.byteLength - position, MAX_PAYLOAD_SIZE);\n",
              "      const chunk = new Uint8Array(fileData, position, length);\n",
              "      position += length;\n",
              "\n",
              "      const base64 = btoa(String.fromCharCode.apply(null, chunk));\n",
              "      yield {\n",
              "        response: {\n",
              "          action: 'append',\n",
              "          file: file.name,\n",
              "          data: base64,\n",
              "        },\n",
              "      };\n",
              "\n",
              "      let percentDone = fileData.byteLength === 0 ?\n",
              "          100 :\n",
              "          Math.round((position / fileData.byteLength) * 100);\n",
              "      percent.textContent = `${percentDone}% done`;\n",
              "\n",
              "    } while (position < fileData.byteLength);\n",
              "  }\n",
              "\n",
              "  // All done.\n",
              "  yield {\n",
              "    response: {\n",
              "      action: 'complete',\n",
              "    }\n",
              "  };\n",
              "}\n",
              "\n",
              "scope.google = scope.google || {};\n",
              "scope.google.colab = scope.google.colab || {};\n",
              "scope.google.colab._files = {\n",
              "  _uploadFiles,\n",
              "  _uploadFilesContinue,\n",
              "};\n",
              "})(self);\n",
              "</script> "
            ]
          },
          "metadata": {}
        },
        {
          "output_type": "stream",
          "name": "stdout",
          "text": [
            "Saving BOOTLOG.TXT to BOOTLOG.TXT\n",
            "Saving DETLOG.TXT to DETLOG.TXT\n",
            "Saving extracted_data.txt to extracted_data.txt\n",
            "Saving FRUNLOG.TXT to FRUNLOG.TXT\n",
            "Saving installed_software.txt to installed_software.txt\n",
            "Saving Logs data.txt to Logs data.txt\n",
            "Saving NETLOG.TXT to NETLOG.TXT\n",
            "Saving SETUPLOG.TXT to SETUPLOG.TXT\n",
            "Saving startup_programs.txt to startup_programs.txt\n",
            "Saving suspicious_files.txt to suspicious_files.txt\n",
            "Saving temp_debug_files.txt to temp_debug_files.txt\n",
            "Saving text data.txt to text data.txt\n"
          ]
        },
        {
          "output_type": "display_data",
          "data": {
            "text/plain": [
              "Dropdown(description='Select File:', options=('BOOTLOG.TXT', 'DETLOG.TXT', 'extracted_data.txt', 'FRUNLOG.TXT'…"
            ],
            "application/vnd.jupyter.widget-view+json": {
              "version_major": 2,
              "version_minor": 0,
              "model_id": "b6c592d8f54f42ebbf18586443dd905a"
            }
          },
          "metadata": {}
        }
      ]
    },
    {
      "cell_type": "markdown",
      "source": [
        "Parse the Uploaded File"
      ],
      "metadata": {
        "id": "aBxD67fqwlNL"
      }
    },
    {
      "cell_type": "code",
      "source": [
        "def parse_output_txt(file_path):\n",
        "    data = []\n",
        "    with open(file_path, 'r') as file:\n",
        "        for line in file:\n",
        "            if line.strip():\n",
        "                entry_type = line.split()[0]  # Extract entry type\n",
        "                entry = ' '.join(line.split()[1:])  # Extract the remaining entry\n",
        "                data.append({'type': entry_type, 'entry': entry})\n",
        "    return pd.DataFrame(data)\n"
      ],
      "metadata": {
        "id": "w-LdrYNWwrSx"
      },
      "execution_count": null,
      "outputs": []
    },
    {
      "cell_type": "markdown",
      "source": [
        "Generate Synthetic Data Based on File Type"
      ],
      "metadata": {
        "id": "7g4U73wGwzM-"
      }
    },
    {
      "cell_type": "code",
      "source": [
        "def generate_synthetic_data(file_label):\n",
        "    synthetic_data = []\n",
        "    labels = []\n",
        "    file_specific_entries = {\n",
        "        \"BOOTLOG.TXT\": \"boot_device.sys\",\n",
        "        \"DETLOG.TXT\": \"detection_event.log\",\n",
        "        \"extracted_data.txt\": \"extracted_record.dat\",\n",
        "        \"FRUNLOG.TXT\": \"first_run.log\",\n",
        "        \"installed_software.txt\": \"software_list.inf\",\n",
        "        \"Logs data.txt\": \"log_entry.dat\",\n",
        "        \"NETLOG.TXT\": \"network_event.log\",\n",
        "        \"SETUPLOG.TXT\": \"setup_process.log\",\n",
        "        \"startup_programs.txt\": \"startup_task.exe\",\n",
        "        \"suspicious_files.txt\": \"malware_detected.tmp\",\n",
        "        \"temp_debug_files.txt\": \"debug_log.tmp\",\n",
        "        \"text data.txt\": \"text_log.txt\"\n",
        "    }\n",
        "\n",
        "    base_name = file_specific_entries.get(file_label, \"default_file.txt\")\n",
        "\n",
        "    for _ in range(1000):\n",
        "        entry = {'id': np.random.randint(1000, 10000), 'level': np.random.randint(1, 5),\n",
        "                 'type': 'file', 'name': f'normal_{base_name}'}\n",
        "        synthetic_data.append(entry)\n",
        "        labels.append(1)\n",
        "\n",
        "    for _ in range(50):\n",
        "        entry = {'id': np.random.randint(1000, 10000), 'level': np.random.randint(1, 5),\n",
        "                 'type': 'file', 'name': f'anomalous_{base_name}'}\n",
        "        synthetic_data.append(entry)\n",
        "        labels.append(-1)\n",
        "\n",
        "    df = pd.DataFrame(synthetic_data)\n",
        "    df['label'] = labels\n",
        "    df['processed_name'] = df['name'].apply(lambda x: x.split('.')[0].lower())\n",
        "    return df"
      ],
      "metadata": {
        "id": "8XxfFewEwyrp"
      },
      "execution_count": null,
      "outputs": []
    },
    {
      "cell_type": "markdown",
      "source": [
        "Process the Selected File for Anomaly Detection"
      ],
      "metadata": {
        "id": "SXdolGzXw7pP"
      }
    },
    {
      "cell_type": "code",
      "source": [
        "def process_selected_file(file_name):\n",
        "    df = parse_output_txt(file_name)\n",
        "    df['label'] = 1  # Assume normal, anomaly detection will update it\n",
        "    df['processed_entry'] = df['entry'].apply(lambda x: x.split(':')[-1].lower().strip())\n",
        "\n",
        "    synthetic_df = generate_synthetic_data(file_name)\n",
        "    combined_entries = pd.concat([df['processed_entry'], synthetic_df['processed_name']])\n",
        "\n",
        "    vectorizer = TfidfVectorizer()\n",
        "    X_tfidf_combined = vectorizer.fit_transform(combined_entries)\n",
        "    X_tfidf_real = X_tfidf_combined[:len(df)]\n",
        "    X_tfidf_synthetic = X_tfidf_combined[len(df):]\n",
        "\n",
        "    iso_forest = IsolationForest(contamination=0.05, random_state=42)\n",
        "    y_pred_real = iso_forest.fit_predict(X_tfidf_real.toarray())\n",
        "    y_pred_synthetic = iso_forest.predict(X_tfidf_synthetic.toarray())\n",
        "\n",
        "    df['impact_score'] = X_tfidf_real.max(axis=1).toarray().flatten()\n",
        "    df['behavior_deviation_score'] = iso_forest.decision_function(X_tfidf_real.toarray())\n",
        "    df['anomaly_label'] = y_pred_real\n",
        "\n",
        "    synthetic_df['impact_score'] = X_tfidf_synthetic.max(axis=1).toarray().flatten()\n",
        "    synthetic_df['behavior_deviation_score'] = iso_forest.decision_function(X_tfidf_synthetic.toarray())\n",
        "    synthetic_df['anomaly_label'] = y_pred_synthetic\n",
        "\n",
        "    return df, synthetic_df\n",
        "\n",
        "# Process the selected file\n",
        "df, synthetic_df = process_selected_file(file_selector.value)"
      ],
      "metadata": {
        "id": "0NMC2igDx83_"
      },
      "execution_count": null,
      "outputs": []
    },
    {
      "cell_type": "markdown",
      "source": [
        "Display synthetic data"
      ],
      "metadata": {
        "id": "YcKt-Dt8yDmv"
      }
    },
    {
      "cell_type": "code",
      "source": [
        "print(\"Synthetic Data:\")\n",
        "print(synthetic_df.head(10).to_string())"
      ],
      "metadata": {
        "colab": {
          "base_uri": "https://localhost:8080/"
        },
        "id": "LOt_VgFqyHId",
        "outputId": "53805db1-d060-4e69-ca48-48c4488ae83d"
      },
      "execution_count": null,
      "outputs": [
        {
          "output_type": "stream",
          "name": "stdout",
          "text": [
            "Synthetic Data:\n",
            "     id  level  type                  name  label    processed_name  impact_score  behavior_deviation_score  anomaly_label\n",
            "0  5205      3  file  normal_log_entry.dat      1  normal_log_entry           1.0                  0.030774              1\n",
            "1  5007      4  file  normal_log_entry.dat      1  normal_log_entry           1.0                  0.030774              1\n",
            "2  6097      2  file  normal_log_entry.dat      1  normal_log_entry           1.0                  0.030774              1\n",
            "3  9786      4  file  normal_log_entry.dat      1  normal_log_entry           1.0                  0.030774              1\n",
            "4  4580      2  file  normal_log_entry.dat      1  normal_log_entry           1.0                  0.030774              1\n",
            "5  4589      1  file  normal_log_entry.dat      1  normal_log_entry           1.0                  0.030774              1\n",
            "6  5513      3  file  normal_log_entry.dat      1  normal_log_entry           1.0                  0.030774              1\n",
            "7  1498      3  file  normal_log_entry.dat      1  normal_log_entry           1.0                  0.030774              1\n",
            "8  4100      1  file  normal_log_entry.dat      1  normal_log_entry           1.0                  0.030774              1\n",
            "9  5931      1  file  normal_log_entry.dat      1  normal_log_entry           1.0                  0.030774              1\n"
          ]
        }
      ]
    },
    {
      "cell_type": "markdown",
      "source": [
        "Evaluate Model Accuracy"
      ],
      "metadata": {
        "id": "9xYxdtYqyWKQ"
      }
    },
    {
      "cell_type": "code",
      "source": [
        "# Evaluate the model\n",
        "accuracy_real = accuracy_score(df['label'], df['anomaly_label'])\n",
        "cm_real = confusion_matrix(df['label'], df['anomaly_label'])\n",
        "print(f\"Real Data Accuracy for {file_selector.value}: {accuracy_real * 100:.2f}%\")\n",
        "print(\"Real Data Confusion Matrix:\", cm_real)"
      ],
      "metadata": {
        "colab": {
          "base_uri": "https://localhost:8080/"
        },
        "id": "m68Tj6bVyLQq",
        "outputId": "97d1222f-ac64-4837-84ed-84ac5867a4c3"
      },
      "execution_count": null,
      "outputs": [
        {
          "output_type": "stream",
          "name": "stdout",
          "text": [
            "Real Data Accuracy for Logs data.txt: 94.74%\n",
            "Real Data Confusion Matrix: [[  0   0]\n",
            " [  9 162]]\n"
          ]
        }
      ]
    },
    {
      "cell_type": "markdown",
      "source": [
        "Display Anomaly Detection Results"
      ],
      "metadata": {
        "id": "tqlWTcfdykUJ"
      }
    },
    {
      "cell_type": "code",
      "source": [
        "print(classification_report(df['label'], df['anomaly_label'], target_names=['Normal', 'Anomaly']))\n",
        "\n",
        "# Display real data anomaly detection results\n",
        "print(\"Anomaly Detection Results:\")\n",
        "print(df[['type', 'entry', 'impact_score', 'behavior_deviation_score', 'anomaly_label']].head(10).to_string())"
      ],
      "metadata": {
        "colab": {
          "base_uri": "https://localhost:8080/"
        },
        "id": "xXYcVyY8yaxb",
        "outputId": "0589f32d-8125-4dbf-c439-d4a4a424401b"
      },
      "execution_count": null,
      "outputs": [
        {
          "output_type": "stream",
          "name": "stdout",
          "text": [
            "              precision    recall  f1-score   support\n",
            "\n",
            "      Normal       0.00      0.00      0.00         0\n",
            "     Anomaly       1.00      0.95      0.97       171\n",
            "\n",
            "    accuracy                           0.95       171\n",
            "   macro avg       0.50      0.47      0.49       171\n",
            "weighted avg       1.00      0.95      0.97       171\n",
            "\n",
            "Anomaly Detection Results:\n",
            "  type                         entry  impact_score  behavior_deviation_score  anomaly_label\n",
            "0  Log                  files found:      0.000000                  0.030774              1\n",
            "1    -         345-128-4: NTUSER.DAT      0.854940                  0.012730              1\n",
            "2    -         9787-128-4: index.dat      0.821334                  0.013684              1\n",
            "3    -          454-128-3: index.dat      0.821334                  0.013684              1\n",
            "4    -         9789-128-4: index.dat      0.821334                  0.013684              1\n",
            "5    -        11567-128-3: index.dat      0.821334                  0.013684              1\n",
            "6    -        11881-128-3: index.dat      0.821334                  0.013684              1\n",
            "7    -        11905-128-3: index.dat      0.821334                  0.013684              1\n",
            "8    -      9801-128-3: UsrClass.dat      0.864281                  0.024940              1\n",
            "9    -  9802-128-4: UsrClass.dat.LOG      0.767605                  0.029886              1\n"
          ]
        },
        {
          "output_type": "stream",
          "name": "stderr",
          "text": [
            "/usr/local/lib/python3.11/dist-packages/sklearn/metrics/_classification.py:1565: UndefinedMetricWarning: Recall is ill-defined and being set to 0.0 in labels with no true samples. Use `zero_division` parameter to control this behavior.\n",
            "  _warn_prf(average, modifier, f\"{metric.capitalize()} is\", len(result))\n",
            "/usr/local/lib/python3.11/dist-packages/sklearn/metrics/_classification.py:1565: UndefinedMetricWarning: Recall is ill-defined and being set to 0.0 in labels with no true samples. Use `zero_division` parameter to control this behavior.\n",
            "  _warn_prf(average, modifier, f\"{metric.capitalize()} is\", len(result))\n",
            "/usr/local/lib/python3.11/dist-packages/sklearn/metrics/_classification.py:1565: UndefinedMetricWarning: Recall is ill-defined and being set to 0.0 in labels with no true samples. Use `zero_division` parameter to control this behavior.\n",
            "  _warn_prf(average, modifier, f\"{metric.capitalize()} is\", len(result))\n"
          ]
        }
      ]
    },
    {
      "cell_type": "markdown",
      "source": [
        "Visualize Anomaly Detection"
      ],
      "metadata": {
        "id": "5_o9PdR8ypkn"
      }
    },
    {
      "cell_type": "markdown",
      "source": [
        "For synthetic data"
      ],
      "metadata": {
        "id": "uRYUvxx3zVij"
      }
    },
    {
      "cell_type": "code",
      "source": [
        "fig_synthetic = px.scatter(synthetic_df, x=synthetic_df.index, y='behavior_deviation_score', color='anomaly_label',\n",
        "                           title=f'Anomaly Detection for Synthetic Data ({file_selector.value})',\n",
        "                           labels={'behavior_deviation_score': 'Deviation Score'})\n",
        "fig_synthetic.show()"
      ],
      "metadata": {
        "colab": {
          "base_uri": "https://localhost:8080/",
          "height": 542
        },
        "id": "hlg0fm9wzHtn",
        "outputId": "fa16c508-c364-4f5f-d7e8-f67b9d2c5eab"
      },
      "execution_count": null,
      "outputs": [
        {
          "output_type": "display_data",
          "data": {
            "text/html": [
              "<html>\n",
              "<head><meta charset=\"utf-8\" /></head>\n",
              "<body>\n",
              "    <div>            <script src=\"https://cdnjs.cloudflare.com/ajax/libs/mathjax/2.7.5/MathJax.js?config=TeX-AMS-MML_SVG\"></script><script type=\"text/javascript\">if (window.MathJax && window.MathJax.Hub && window.MathJax.Hub.Config) {window.MathJax.Hub.Config({SVG: {font: \"STIX-Web\"}});}</script>                <script type=\"text/javascript\">window.PlotlyConfig = {MathJaxConfig: 'local'};</script>\n",
              "        <script charset=\"utf-8\" src=\"https://cdn.plot.ly/plotly-2.35.2.min.js\"></script>                <div id=\"02864ed1-ce30-40ca-b471-ffd5218a7c8b\" class=\"plotly-graph-div\" style=\"height:525px; width:100%;\"></div>            <script type=\"text/javascript\">                                    window.PLOTLYENV=window.PLOTLYENV || {};                                    if (document.getElementById(\"02864ed1-ce30-40ca-b471-ffd5218a7c8b\")) {                    Plotly.newPlot(                        \"02864ed1-ce30-40ca-b471-ffd5218a7c8b\",                        [{\"hovertemplate\":\"index=%{x}\\u003cbr\\u003eDeviation Score=%{y}\\u003cbr\\u003eanomaly_label=%{marker.color}\\u003cextra\\u003e\\u003c\\u002fextra\\u003e\",\"legendgroup\":\"\",\"marker\":{\"color\":[1,1,1,1,1,1,1,1,1,1,1,1,1,1,1,1,1,1,1,1,1,1,1,1,1,1,1,1,1,1,1,1,1,1,1,1,1,1,1,1,1,1,1,1,1,1,1,1,1,1,1,1,1,1,1,1,1,1,1,1,1,1,1,1,1,1,1,1,1,1,1,1,1,1,1,1,1,1,1,1,1,1,1,1,1,1,1,1,1,1,1,1,1,1,1,1,1,1,1,1,1,1,1,1,1,1,1,1,1,1,1,1,1,1,1,1,1,1,1,1,1,1,1,1,1,1,1,1,1,1,1,1,1,1,1,1,1,1,1,1,1,1,1,1,1,1,1,1,1,1,1,1,1,1,1,1,1,1,1,1,1,1,1,1,1,1,1,1,1,1,1,1,1,1,1,1,1,1,1,1,1,1,1,1,1,1,1,1,1,1,1,1,1,1,1,1,1,1,1,1,1,1,1,1,1,1,1,1,1,1,1,1,1,1,1,1,1,1,1,1,1,1,1,1,1,1,1,1,1,1,1,1,1,1,1,1,1,1,1,1,1,1,1,1,1,1,1,1,1,1,1,1,1,1,1,1,1,1,1,1,1,1,1,1,1,1,1,1,1,1,1,1,1,1,1,1,1,1,1,1,1,1,1,1,1,1,1,1,1,1,1,1,1,1,1,1,1,1,1,1,1,1,1,1,1,1,1,1,1,1,1,1,1,1,1,1,1,1,1,1,1,1,1,1,1,1,1,1,1,1,1,1,1,1,1,1,1,1,1,1,1,1,1,1,1,1,1,1,1,1,1,1,1,1,1,1,1,1,1,1,1,1,1,1,1,1,1,1,1,1,1,1,1,1,1,1,1,1,1,1,1,1,1,1,1,1,1,1,1,1,1,1,1,1,1,1,1,1,1,1,1,1,1,1,1,1,1,1,1,1,1,1,1,1,1,1,1,1,1,1,1,1,1,1,1,1,1,1,1,1,1,1,1,1,1,1,1,1,1,1,1,1,1,1,1,1,1,1,1,1,1,1,1,1,1,1,1,1,1,1,1,1,1,1,1,1,1,1,1,1,1,1,1,1,1,1,1,1,1,1,1,1,1,1,1,1,1,1,1,1,1,1,1,1,1,1,1,1,1,1,1,1,1,1,1,1,1,1,1,1,1,1,1,1,1,1,1,1,1,1,1,1,1,1,1,1,1,1,1,1,1,1,1,1,1,1,1,1,1,1,1,1,1,1,1,1,1,1,1,1,1,1,1,1,1,1,1,1,1,1,1,1,1,1,1,1,1,1,1,1,1,1,1,1,1,1,1,1,1,1,1,1,1,1,1,1,1,1,1,1,1,1,1,1,1,1,1,1,1,1,1,1,1,1,1,1,1,1,1,1,1,1,1,1,1,1,1,1,1,1,1,1,1,1,1,1,1,1,1,1,1,1,1,1,1,1,1,1,1,1,1,1,1,1,1,1,1,1,1,1,1,1,1,1,1,1,1,1,1,1,1,1,1,1,1,1,1,1,1,1,1,1,1,1,1,1,1,1,1,1,1,1,1,1,1,1,1,1,1,1,1,1,1,1,1,1,1,1,1,1,1,1,1,1,1,1,1,1,1,1,1,1,1,1,1,1,1,1,1,1,1,1,1,1,1,1,1,1,1,1,1,1,1,1,1,1,1,1,1,1,1,1,1,1,1,1,1,1,1,1,1,1,1,1,1,1,1,1,1,1,1,1,1,1,1,1,1,1,1,1,1,1,1,1,1,1,1,1,1,1,1,1,1,1,1,1,1,1,1,1,1,1,1,1,1,1,1,1,1,1,1,1,1,1,1,1,1,1,1,1,1,1,1,1,1,1,1,1,1,1,1,1,1,1,1,1,1,1,1,1,1,1,1,1,1,1,1,1,1,1,1,1,1,1,1,1,1,1,1,1,1,1,1,1,1,1,1,1,1,1,1,1,1,1,1,1,1,1,1,1,1,1,1,1,1,1,1,1,1,1,1,1,1,1,1,1,1,1,1,1,1,1,1,1,1,1,1,1,1,1,1,1,1,1,1,1,1,1,1,1,1,1,1,1,1,1,1,1,1,1,1,1,1,1,1,1,1,1,1,1,1,1,1,1,1,1,1,1,1,1,1,1,1,1,1,1,1,1,1,1,1,1,1,1,1,1,1,1,1,1,1,1,1,1,1,1,1,1,1,1,1,1,1,1,1,1,1,1,1,1,1,1,1,1,1,1,1,1,1,1,1,1,1,1,1,1,1,1,1,1,1,1,1,1,1,1,1,1,1,1,1,1,1,1,1,1,1,1,1,1,1,1,1,1,1,1,1,1,1,1,1,1,1,1,1,1,1,1,1,1,1,1,1,1,1,1,1,1,1,1],\"coloraxis\":\"coloraxis\",\"symbol\":\"circle\"},\"mode\":\"markers\",\"name\":\"\",\"showlegend\":false,\"x\":[0,1,2,3,4,5,6,7,8,9,10,11,12,13,14,15,16,17,18,19,20,21,22,23,24,25,26,27,28,29,30,31,32,33,34,35,36,37,38,39,40,41,42,43,44,45,46,47,48,49,50,51,52,53,54,55,56,57,58,59,60,61,62,63,64,65,66,67,68,69,70,71,72,73,74,75,76,77,78,79,80,81,82,83,84,85,86,87,88,89,90,91,92,93,94,95,96,97,98,99,100,101,102,103,104,105,106,107,108,109,110,111,112,113,114,115,116,117,118,119,120,121,122,123,124,125,126,127,128,129,130,131,132,133,134,135,136,137,138,139,140,141,142,143,144,145,146,147,148,149,150,151,152,153,154,155,156,157,158,159,160,161,162,163,164,165,166,167,168,169,170,171,172,173,174,175,176,177,178,179,180,181,182,183,184,185,186,187,188,189,190,191,192,193,194,195,196,197,198,199,200,201,202,203,204,205,206,207,208,209,210,211,212,213,214,215,216,217,218,219,220,221,222,223,224,225,226,227,228,229,230,231,232,233,234,235,236,237,238,239,240,241,242,243,244,245,246,247,248,249,250,251,252,253,254,255,256,257,258,259,260,261,262,263,264,265,266,267,268,269,270,271,272,273,274,275,276,277,278,279,280,281,282,283,284,285,286,287,288,289,290,291,292,293,294,295,296,297,298,299,300,301,302,303,304,305,306,307,308,309,310,311,312,313,314,315,316,317,318,319,320,321,322,323,324,325,326,327,328,329,330,331,332,333,334,335,336,337,338,339,340,341,342,343,344,345,346,347,348,349,350,351,352,353,354,355,356,357,358,359,360,361,362,363,364,365,366,367,368,369,370,371,372,373,374,375,376,377,378,379,380,381,382,383,384,385,386,387,388,389,390,391,392,393,394,395,396,397,398,399,400,401,402,403,404,405,406,407,408,409,410,411,412,413,414,415,416,417,418,419,420,421,422,423,424,425,426,427,428,429,430,431,432,433,434,435,436,437,438,439,440,441,442,443,444,445,446,447,448,449,450,451,452,453,454,455,456,457,458,459,460,461,462,463,464,465,466,467,468,469,470,471,472,473,474,475,476,477,478,479,480,481,482,483,484,485,486,487,488,489,490,491,492,493,494,495,496,497,498,499,500,501,502,503,504,505,506,507,508,509,510,511,512,513,514,515,516,517,518,519,520,521,522,523,524,525,526,527,528,529,530,531,532,533,534,535,536,537,538,539,540,541,542,543,544,545,546,547,548,549,550,551,552,553,554,555,556,557,558,559,560,561,562,563,564,565,566,567,568,569,570,571,572,573,574,575,576,577,578,579,580,581,582,583,584,585,586,587,588,589,590,591,592,593,594,595,596,597,598,599,600,601,602,603,604,605,606,607,608,609,610,611,612,613,614,615,616,617,618,619,620,621,622,623,624,625,626,627,628,629,630,631,632,633,634,635,636,637,638,639,640,641,642,643,644,645,646,647,648,649,650,651,652,653,654,655,656,657,658,659,660,661,662,663,664,665,666,667,668,669,670,671,672,673,674,675,676,677,678,679,680,681,682,683,684,685,686,687,688,689,690,691,692,693,694,695,696,697,698,699,700,701,702,703,704,705,706,707,708,709,710,711,712,713,714,715,716,717,718,719,720,721,722,723,724,725,726,727,728,729,730,731,732,733,734,735,736,737,738,739,740,741,742,743,744,745,746,747,748,749,750,751,752,753,754,755,756,757,758,759,760,761,762,763,764,765,766,767,768,769,770,771,772,773,774,775,776,777,778,779,780,781,782,783,784,785,786,787,788,789,790,791,792,793,794,795,796,797,798,799,800,801,802,803,804,805,806,807,808,809,810,811,812,813,814,815,816,817,818,819,820,821,822,823,824,825,826,827,828,829,830,831,832,833,834,835,836,837,838,839,840,841,842,843,844,845,846,847,848,849,850,851,852,853,854,855,856,857,858,859,860,861,862,863,864,865,866,867,868,869,870,871,872,873,874,875,876,877,878,879,880,881,882,883,884,885,886,887,888,889,890,891,892,893,894,895,896,897,898,899,900,901,902,903,904,905,906,907,908,909,910,911,912,913,914,915,916,917,918,919,920,921,922,923,924,925,926,927,928,929,930,931,932,933,934,935,936,937,938,939,940,941,942,943,944,945,946,947,948,949,950,951,952,953,954,955,956,957,958,959,960,961,962,963,964,965,966,967,968,969,970,971,972,973,974,975,976,977,978,979,980,981,982,983,984,985,986,987,988,989,990,991,992,993,994,995,996,997,998,999,1000,1001,1002,1003,1004,1005,1006,1007,1008,1009,1010,1011,1012,1013,1014,1015,1016,1017,1018,1019,1020,1021,1022,1023,1024,1025,1026,1027,1028,1029,1030,1031,1032,1033,1034,1035,1036,1037,1038,1039,1040,1041,1042,1043,1044,1045,1046,1047,1048,1049],\"xaxis\":\"x\",\"y\":[0.030773930248507386,0.030773930248507386,0.030773930248507386,0.030773930248507386,0.030773930248507386,0.030773930248507386,0.030773930248507386,0.030773930248507386,0.030773930248507386,0.030773930248507386,0.030773930248507386,0.030773930248507386,0.030773930248507386,0.030773930248507386,0.030773930248507386,0.030773930248507386,0.030773930248507386,0.030773930248507386,0.030773930248507386,0.030773930248507386,0.030773930248507386,0.030773930248507386,0.030773930248507386,0.030773930248507386,0.030773930248507386,0.030773930248507386,0.030773930248507386,0.030773930248507386,0.030773930248507386,0.030773930248507386,0.030773930248507386,0.030773930248507386,0.030773930248507386,0.030773930248507386,0.030773930248507386,0.030773930248507386,0.030773930248507386,0.030773930248507386,0.030773930248507386,0.030773930248507386,0.030773930248507386,0.030773930248507386,0.030773930248507386,0.030773930248507386,0.030773930248507386,0.030773930248507386,0.030773930248507386,0.030773930248507386,0.030773930248507386,0.030773930248507386,0.030773930248507386,0.030773930248507386,0.030773930248507386,0.030773930248507386,0.030773930248507386,0.030773930248507386,0.030773930248507386,0.030773930248507386,0.030773930248507386,0.030773930248507386,0.030773930248507386,0.030773930248507386,0.030773930248507386,0.030773930248507386,0.030773930248507386,0.030773930248507386,0.030773930248507386,0.030773930248507386,0.030773930248507386,0.030773930248507386,0.030773930248507386,0.030773930248507386,0.030773930248507386,0.030773930248507386,0.030773930248507386,0.030773930248507386,0.030773930248507386,0.030773930248507386,0.030773930248507386,0.030773930248507386,0.030773930248507386,0.030773930248507386,0.030773930248507386,0.030773930248507386,0.030773930248507386,0.030773930248507386,0.030773930248507386,0.030773930248507386,0.030773930248507386,0.030773930248507386,0.030773930248507386,0.030773930248507386,0.030773930248507386,0.030773930248507386,0.030773930248507386,0.030773930248507386,0.030773930248507386,0.030773930248507386,0.030773930248507386,0.030773930248507386,0.030773930248507386,0.030773930248507386,0.030773930248507386,0.030773930248507386,0.030773930248507386,0.030773930248507386,0.030773930248507386,0.030773930248507386,0.030773930248507386,0.030773930248507386,0.030773930248507386,0.030773930248507386,0.030773930248507386,0.030773930248507386,0.030773930248507386,0.030773930248507386,0.030773930248507386,0.030773930248507386,0.030773930248507386,0.030773930248507386,0.030773930248507386,0.030773930248507386,0.030773930248507386,0.030773930248507386,0.030773930248507386,0.030773930248507386,0.030773930248507386,0.030773930248507386,0.030773930248507386,0.030773930248507386,0.030773930248507386,0.030773930248507386,0.030773930248507386,0.030773930248507386,0.030773930248507386,0.030773930248507386,0.030773930248507386,0.030773930248507386,0.030773930248507386,0.030773930248507386,0.030773930248507386,0.030773930248507386,0.030773930248507386,0.030773930248507386,0.030773930248507386,0.030773930248507386,0.030773930248507386,0.030773930248507386,0.030773930248507386,0.030773930248507386,0.030773930248507386,0.030773930248507386,0.030773930248507386,0.030773930248507386,0.030773930248507386,0.030773930248507386,0.030773930248507386,0.030773930248507386,0.030773930248507386,0.030773930248507386,0.030773930248507386,0.030773930248507386,0.030773930248507386,0.030773930248507386,0.030773930248507386,0.030773930248507386,0.030773930248507386,0.030773930248507386,0.030773930248507386,0.030773930248507386,0.030773930248507386,0.030773930248507386,0.030773930248507386,0.030773930248507386,0.030773930248507386,0.030773930248507386,0.030773930248507386,0.030773930248507386,0.030773930248507386,0.030773930248507386,0.030773930248507386,0.030773930248507386,0.030773930248507386,0.030773930248507386,0.030773930248507386,0.030773930248507386,0.030773930248507386,0.030773930248507386,0.030773930248507386,0.030773930248507386,0.030773930248507386,0.030773930248507386,0.030773930248507386,0.030773930248507386,0.030773930248507386,0.030773930248507386,0.030773930248507386,0.030773930248507386,0.030773930248507386,0.030773930248507386,0.030773930248507386,0.030773930248507386,0.030773930248507386,0.030773930248507386,0.030773930248507386,0.030773930248507386,0.030773930248507386,0.030773930248507386,0.030773930248507386,0.030773930248507386,0.030773930248507386,0.030773930248507386,0.030773930248507386,0.030773930248507386,0.030773930248507386,0.030773930248507386,0.030773930248507386,0.030773930248507386,0.030773930248507386,0.030773930248507386,0.030773930248507386,0.030773930248507386,0.030773930248507386,0.030773930248507386,0.030773930248507386,0.030773930248507386,0.030773930248507386,0.030773930248507386,0.030773930248507386,0.030773930248507386,0.030773930248507386,0.030773930248507386,0.030773930248507386,0.030773930248507386,0.030773930248507386,0.030773930248507386,0.030773930248507386,0.030773930248507386,0.030773930248507386,0.030773930248507386,0.030773930248507386,0.030773930248507386,0.030773930248507386,0.030773930248507386,0.030773930248507386,0.030773930248507386,0.030773930248507386,0.030773930248507386,0.030773930248507386,0.030773930248507386,0.030773930248507386,0.030773930248507386,0.030773930248507386,0.030773930248507386,0.030773930248507386,0.030773930248507386,0.030773930248507386,0.030773930248507386,0.030773930248507386,0.030773930248507386,0.030773930248507386,0.030773930248507386,0.030773930248507386,0.030773930248507386,0.030773930248507386,0.030773930248507386,0.030773930248507386,0.030773930248507386,0.030773930248507386,0.030773930248507386,0.030773930248507386,0.030773930248507386,0.030773930248507386,0.030773930248507386,0.030773930248507386,0.030773930248507386,0.030773930248507386,0.030773930248507386,0.030773930248507386,0.030773930248507386,0.030773930248507386,0.030773930248507386,0.030773930248507386,0.030773930248507386,0.030773930248507386,0.030773930248507386,0.030773930248507386,0.030773930248507386,0.030773930248507386,0.030773930248507386,0.030773930248507386,0.030773930248507386,0.030773930248507386,0.030773930248507386,0.030773930248507386,0.030773930248507386,0.030773930248507386,0.030773930248507386,0.030773930248507386,0.030773930248507386,0.030773930248507386,0.030773930248507386,0.030773930248507386,0.030773930248507386,0.030773930248507386,0.030773930248507386,0.030773930248507386,0.030773930248507386,0.030773930248507386,0.030773930248507386,0.030773930248507386,0.030773930248507386,0.030773930248507386,0.030773930248507386,0.030773930248507386,0.030773930248507386,0.030773930248507386,0.030773930248507386,0.030773930248507386,0.030773930248507386,0.030773930248507386,0.030773930248507386,0.030773930248507386,0.030773930248507386,0.030773930248507386,0.030773930248507386,0.030773930248507386,0.030773930248507386,0.030773930248507386,0.030773930248507386,0.030773930248507386,0.030773930248507386,0.030773930248507386,0.030773930248507386,0.030773930248507386,0.030773930248507386,0.030773930248507386,0.030773930248507386,0.030773930248507386,0.030773930248507386,0.030773930248507386,0.030773930248507386,0.030773930248507386,0.030773930248507386,0.030773930248507386,0.030773930248507386,0.030773930248507386,0.030773930248507386,0.030773930248507386,0.030773930248507386,0.030773930248507386,0.030773930248507386,0.030773930248507386,0.030773930248507386,0.030773930248507386,0.030773930248507386,0.030773930248507386,0.030773930248507386,0.030773930248507386,0.030773930248507386,0.030773930248507386,0.030773930248507386,0.030773930248507386,0.030773930248507386,0.030773930248507386,0.030773930248507386,0.030773930248507386,0.030773930248507386,0.030773930248507386,0.030773930248507386,0.030773930248507386,0.030773930248507386,0.030773930248507386,0.030773930248507386,0.030773930248507386,0.030773930248507386,0.030773930248507386,0.030773930248507386,0.030773930248507386,0.030773930248507386,0.030773930248507386,0.030773930248507386,0.030773930248507386,0.030773930248507386,0.030773930248507386,0.030773930248507386,0.030773930248507386,0.030773930248507386,0.030773930248507386,0.030773930248507386,0.030773930248507386,0.030773930248507386,0.030773930248507386,0.030773930248507386,0.030773930248507386,0.030773930248507386,0.030773930248507386,0.030773930248507386,0.030773930248507386,0.030773930248507386,0.030773930248507386,0.030773930248507386,0.030773930248507386,0.030773930248507386,0.030773930248507386,0.030773930248507386,0.030773930248507386,0.030773930248507386,0.030773930248507386,0.030773930248507386,0.030773930248507386,0.030773930248507386,0.030773930248507386,0.030773930248507386,0.030773930248507386,0.030773930248507386,0.030773930248507386,0.030773930248507386,0.030773930248507386,0.030773930248507386,0.030773930248507386,0.030773930248507386,0.030773930248507386,0.030773930248507386,0.030773930248507386,0.030773930248507386,0.030773930248507386,0.030773930248507386,0.030773930248507386,0.030773930248507386,0.030773930248507386,0.030773930248507386,0.030773930248507386,0.030773930248507386,0.030773930248507386,0.030773930248507386,0.030773930248507386,0.030773930248507386,0.030773930248507386,0.030773930248507386,0.030773930248507386,0.030773930248507386,0.030773930248507386,0.030773930248507386,0.030773930248507386,0.030773930248507386,0.030773930248507386,0.030773930248507386,0.030773930248507386,0.030773930248507386,0.030773930248507386,0.030773930248507386,0.030773930248507386,0.030773930248507386,0.030773930248507386,0.030773930248507386,0.030773930248507386,0.030773930248507386,0.030773930248507386,0.030773930248507386,0.030773930248507386,0.030773930248507386,0.030773930248507386,0.030773930248507386,0.030773930248507386,0.030773930248507386,0.030773930248507386,0.030773930248507386,0.030773930248507386,0.030773930248507386,0.030773930248507386,0.030773930248507386,0.030773930248507386,0.030773930248507386,0.030773930248507386,0.030773930248507386,0.030773930248507386,0.030773930248507386,0.030773930248507386,0.030773930248507386,0.030773930248507386,0.030773930248507386,0.030773930248507386,0.030773930248507386,0.030773930248507386,0.030773930248507386,0.030773930248507386,0.030773930248507386,0.030773930248507386,0.030773930248507386,0.030773930248507386,0.030773930248507386,0.030773930248507386,0.030773930248507386,0.030773930248507386,0.030773930248507386,0.030773930248507386,0.030773930248507386,0.030773930248507386,0.030773930248507386,0.030773930248507386,0.030773930248507386,0.030773930248507386,0.030773930248507386,0.030773930248507386,0.030773930248507386,0.030773930248507386,0.030773930248507386,0.030773930248507386,0.030773930248507386,0.030773930248507386,0.030773930248507386,0.030773930248507386,0.030773930248507386,0.030773930248507386,0.030773930248507386,0.030773930248507386,0.030773930248507386,0.030773930248507386,0.030773930248507386,0.030773930248507386,0.030773930248507386,0.030773930248507386,0.030773930248507386,0.030773930248507386,0.030773930248507386,0.030773930248507386,0.030773930248507386,0.030773930248507386,0.030773930248507386,0.030773930248507386,0.030773930248507386,0.030773930248507386,0.030773930248507386,0.030773930248507386,0.030773930248507386,0.030773930248507386,0.030773930248507386,0.030773930248507386,0.030773930248507386,0.030773930248507386,0.030773930248507386,0.030773930248507386,0.030773930248507386,0.030773930248507386,0.030773930248507386,0.030773930248507386,0.030773930248507386,0.030773930248507386,0.030773930248507386,0.030773930248507386,0.030773930248507386,0.030773930248507386,0.030773930248507386,0.030773930248507386,0.030773930248507386,0.030773930248507386,0.030773930248507386,0.030773930248507386,0.030773930248507386,0.030773930248507386,0.030773930248507386,0.030773930248507386,0.030773930248507386,0.030773930248507386,0.030773930248507386,0.030773930248507386,0.030773930248507386,0.030773930248507386,0.030773930248507386,0.030773930248507386,0.030773930248507386,0.030773930248507386,0.030773930248507386,0.030773930248507386,0.030773930248507386,0.030773930248507386,0.030773930248507386,0.030773930248507386,0.030773930248507386,0.030773930248507386,0.030773930248507386,0.030773930248507386,0.030773930248507386,0.030773930248507386,0.030773930248507386,0.030773930248507386,0.030773930248507386,0.030773930248507386,0.030773930248507386,0.030773930248507386,0.030773930248507386,0.030773930248507386,0.030773930248507386,0.030773930248507386,0.030773930248507386,0.030773930248507386,0.030773930248507386,0.030773930248507386,0.030773930248507386,0.030773930248507386,0.030773930248507386,0.030773930248507386,0.030773930248507386,0.030773930248507386,0.030773930248507386,0.030773930248507386,0.030773930248507386,0.030773930248507386,0.030773930248507386,0.030773930248507386,0.030773930248507386,0.030773930248507386,0.030773930248507386,0.030773930248507386,0.030773930248507386,0.030773930248507386,0.030773930248507386,0.030773930248507386,0.030773930248507386,0.030773930248507386,0.030773930248507386,0.030773930248507386,0.030773930248507386,0.030773930248507386,0.030773930248507386,0.030773930248507386,0.030773930248507386,0.030773930248507386,0.030773930248507386,0.030773930248507386,0.030773930248507386,0.030773930248507386,0.030773930248507386,0.030773930248507386,0.030773930248507386,0.030773930248507386,0.030773930248507386,0.030773930248507386,0.030773930248507386,0.030773930248507386,0.030773930248507386,0.030773930248507386,0.030773930248507386,0.030773930248507386,0.030773930248507386,0.030773930248507386,0.030773930248507386,0.030773930248507386,0.030773930248507386,0.030773930248507386,0.030773930248507386,0.030773930248507386,0.030773930248507386,0.030773930248507386,0.030773930248507386,0.030773930248507386,0.030773930248507386,0.030773930248507386,0.030773930248507386,0.030773930248507386,0.030773930248507386,0.030773930248507386,0.030773930248507386,0.030773930248507386,0.030773930248507386,0.030773930248507386,0.030773930248507386,0.030773930248507386,0.030773930248507386,0.030773930248507386,0.030773930248507386,0.030773930248507386,0.030773930248507386,0.030773930248507386,0.030773930248507386,0.030773930248507386,0.030773930248507386,0.030773930248507386,0.030773930248507386,0.030773930248507386,0.030773930248507386,0.030773930248507386,0.030773930248507386,0.030773930248507386,0.030773930248507386,0.030773930248507386,0.030773930248507386,0.030773930248507386,0.030773930248507386,0.030773930248507386,0.030773930248507386,0.030773930248507386,0.030773930248507386,0.030773930248507386,0.030773930248507386,0.030773930248507386,0.030773930248507386,0.030773930248507386,0.030773930248507386,0.030773930248507386,0.030773930248507386,0.030773930248507386,0.030773930248507386,0.030773930248507386,0.030773930248507386,0.030773930248507386,0.030773930248507386,0.030773930248507386,0.030773930248507386,0.030773930248507386,0.030773930248507386,0.030773930248507386,0.030773930248507386,0.030773930248507386,0.030773930248507386,0.030773930248507386,0.030773930248507386,0.030773930248507386,0.030773930248507386,0.030773930248507386,0.030773930248507386,0.030773930248507386,0.030773930248507386,0.030773930248507386,0.030773930248507386,0.030773930248507386,0.030773930248507386,0.030773930248507386,0.030773930248507386,0.030773930248507386,0.030773930248507386,0.030773930248507386,0.030773930248507386,0.030773930248507386,0.030773930248507386,0.030773930248507386,0.030773930248507386,0.030773930248507386,0.030773930248507386,0.030773930248507386,0.030773930248507386,0.030773930248507386,0.030773930248507386,0.030773930248507386,0.030773930248507386,0.030773930248507386,0.030773930248507386,0.030773930248507386,0.030773930248507386,0.030773930248507386,0.030773930248507386,0.030773930248507386,0.030773930248507386,0.030773930248507386,0.030773930248507386,0.030773930248507386,0.030773930248507386,0.030773930248507386,0.030773930248507386,0.030773930248507386,0.030773930248507386,0.030773930248507386,0.030773930248507386,0.030773930248507386,0.030773930248507386,0.030773930248507386,0.030773930248507386,0.030773930248507386,0.030773930248507386,0.030773930248507386,0.030773930248507386,0.030773930248507386,0.030773930248507386,0.030773930248507386,0.030773930248507386,0.030773930248507386,0.030773930248507386,0.030773930248507386,0.030773930248507386,0.030773930248507386,0.030773930248507386,0.030773930248507386,0.030773930248507386,0.030773930248507386,0.030773930248507386,0.030773930248507386,0.030773930248507386,0.030773930248507386,0.030773930248507386,0.030773930248507386,0.030773930248507386,0.030773930248507386,0.030773930248507386,0.030773930248507386,0.030773930248507386,0.030773930248507386,0.030773930248507386,0.030773930248507386,0.030773930248507386,0.030773930248507386,0.030773930248507386,0.030773930248507386,0.030773930248507386,0.030773930248507386,0.030773930248507386,0.030773930248507386,0.030773930248507386,0.030773930248507386,0.030773930248507386,0.030773930248507386,0.030773930248507386,0.030773930248507386,0.030773930248507386,0.030773930248507386,0.030773930248507386,0.030773930248507386,0.030773930248507386,0.030773930248507386,0.030773930248507386,0.030773930248507386,0.030773930248507386,0.030773930248507386,0.030773930248507386,0.030773930248507386,0.030773930248507386,0.030773930248507386,0.030773930248507386,0.030773930248507386,0.030773930248507386,0.030773930248507386,0.030773930248507386,0.030773930248507386,0.030773930248507386,0.030773930248507386,0.030773930248507386,0.030773930248507386,0.030773930248507386,0.030773930248507386,0.030773930248507386,0.030773930248507386,0.030773930248507386,0.030773930248507386,0.030773930248507386,0.030773930248507386,0.030773930248507386,0.030773930248507386,0.030773930248507386,0.030773930248507386,0.030773930248507386,0.030773930248507386,0.030773930248507386,0.030773930248507386,0.030773930248507386,0.030773930248507386,0.030773930248507386,0.030773930248507386,0.030773930248507386,0.030773930248507386,0.030773930248507386,0.030773930248507386,0.030773930248507386,0.030773930248507386,0.030773930248507386,0.030773930248507386,0.030773930248507386,0.030773930248507386,0.030773930248507386,0.030773930248507386,0.030773930248507386,0.030773930248507386,0.030773930248507386,0.030773930248507386,0.030773930248507386,0.030773930248507386,0.030773930248507386,0.030773930248507386,0.030773930248507386,0.030773930248507386,0.030773930248507386,0.030773930248507386,0.030773930248507386,0.030773930248507386,0.030773930248507386,0.030773930248507386,0.030773930248507386,0.030773930248507386,0.030773930248507386,0.030773930248507386,0.030773930248507386,0.030773930248507386,0.030773930248507386,0.030773930248507386,0.030773930248507386,0.030773930248507386,0.030773930248507386,0.030773930248507386,0.030773930248507386,0.030773930248507386,0.030773930248507386,0.030773930248507386,0.030773930248507386,0.030773930248507386,0.030773930248507386,0.030773930248507386,0.030773930248507386,0.030773930248507386,0.030773930248507386,0.030773930248507386,0.030773930248507386,0.030773930248507386,0.030773930248507386,0.030773930248507386,0.030773930248507386,0.030773930248507386,0.030773930248507386,0.030773930248507386,0.030773930248507386,0.030773930248507386,0.030773930248507386,0.030773930248507386,0.030773930248507386,0.030773930248507386,0.030773930248507386,0.030773930248507386,0.030773930248507386,0.030773930248507386,0.030773930248507386,0.030773930248507386,0.030773930248507386,0.030773930248507386,0.030773930248507386,0.030773930248507386,0.030773930248507386,0.030773930248507386,0.030773930248507386,0.030773930248507386,0.030773930248507386,0.030773930248507386,0.030773930248507386,0.030773930248507386,0.030773930248507386,0.030773930248507386,0.030773930248507386,0.030773930248507386,0.030773930248507386,0.030773930248507386,0.030773930248507386,0.030773930248507386,0.030773930248507386,0.030773930248507386,0.030773930248507386,0.030773930248507386,0.030773930248507386,0.030773930248507386,0.030773930248507386,0.030773930248507386,0.030773930248507386,0.030773930248507386,0.030773930248507386,0.030773930248507386,0.030773930248507386,0.030773930248507386,0.030773930248507386,0.030773930248507386,0.030773930248507386,0.030773930248507386,0.030773930248507386,0.030773930248507386,0.030773930248507386,0.030773930248507386,0.030773930248507386,0.030773930248507386,0.030773930248507386,0.030773930248507386,0.030773930248507386,0.030773930248507386,0.030773930248507386,0.030773930248507386,0.030773930248507386,0.030773930248507386,0.030773930248507386,0.030773930248507386,0.030773930248507386,0.030773930248507386,0.030773930248507386,0.030773930248507386,0.030773930248507386,0.030773930248507386,0.030773930248507386,0.030773930248507386,0.030773930248507386,0.030773930248507386,0.030773930248507386,0.030773930248507386,0.030773930248507386,0.030773930248507386,0.030773930248507386,0.030773930248507386,0.030773930248507386,0.030773930248507386,0.030773930248507386,0.030773930248507386,0.030773930248507386,0.030773930248507386,0.030773930248507386,0.030773930248507386,0.030773930248507386,0.030773930248507386,0.030773930248507386,0.030773930248507386,0.030773930248507386,0.030773930248507386,0.030773930248507386,0.030773930248507386,0.030773930248507386,0.030773930248507386,0.030773930248507386,0.030773930248507386,0.030773930248507386,0.030773930248507386,0.030773930248507386,0.030773930248507386,0.030773930248507386,0.030773930248507386,0.030773930248507386,0.030773930248507386,0.030773930248507386,0.030773930248507386,0.030773930248507386,0.030773930248507386,0.030773930248507386,0.030773930248507386,0.030773930248507386,0.030773930248507386,0.030773930248507386,0.030773930248507386,0.030773930248507386,0.030773930248507386,0.030773930248507386,0.030773930248507386,0.030773930248507386,0.030773930248507386,0.030773930248507386,0.030773930248507386,0.030773930248507386,0.030773930248507386,0.030773930248507386,0.030773930248507386,0.030773930248507386],\"yaxis\":\"y\",\"type\":\"scattergl\"}],                        {\"template\":{\"data\":{\"histogram2dcontour\":[{\"type\":\"histogram2dcontour\",\"colorbar\":{\"outlinewidth\":0,\"ticks\":\"\"},\"colorscale\":[[0.0,\"#0d0887\"],[0.1111111111111111,\"#46039f\"],[0.2222222222222222,\"#7201a8\"],[0.3333333333333333,\"#9c179e\"],[0.4444444444444444,\"#bd3786\"],[0.5555555555555556,\"#d8576b\"],[0.6666666666666666,\"#ed7953\"],[0.7777777777777778,\"#fb9f3a\"],[0.8888888888888888,\"#fdca26\"],[1.0,\"#f0f921\"]]}],\"choropleth\":[{\"type\":\"choropleth\",\"colorbar\":{\"outlinewidth\":0,\"ticks\":\"\"}}],\"histogram2d\":[{\"type\":\"histogram2d\",\"colorbar\":{\"outlinewidth\":0,\"ticks\":\"\"},\"colorscale\":[[0.0,\"#0d0887\"],[0.1111111111111111,\"#46039f\"],[0.2222222222222222,\"#7201a8\"],[0.3333333333333333,\"#9c179e\"],[0.4444444444444444,\"#bd3786\"],[0.5555555555555556,\"#d8576b\"],[0.6666666666666666,\"#ed7953\"],[0.7777777777777778,\"#fb9f3a\"],[0.8888888888888888,\"#fdca26\"],[1.0,\"#f0f921\"]]}],\"heatmap\":[{\"type\":\"heatmap\",\"colorbar\":{\"outlinewidth\":0,\"ticks\":\"\"},\"colorscale\":[[0.0,\"#0d0887\"],[0.1111111111111111,\"#46039f\"],[0.2222222222222222,\"#7201a8\"],[0.3333333333333333,\"#9c179e\"],[0.4444444444444444,\"#bd3786\"],[0.5555555555555556,\"#d8576b\"],[0.6666666666666666,\"#ed7953\"],[0.7777777777777778,\"#fb9f3a\"],[0.8888888888888888,\"#fdca26\"],[1.0,\"#f0f921\"]]}],\"heatmapgl\":[{\"type\":\"heatmapgl\",\"colorbar\":{\"outlinewidth\":0,\"ticks\":\"\"},\"colorscale\":[[0.0,\"#0d0887\"],[0.1111111111111111,\"#46039f\"],[0.2222222222222222,\"#7201a8\"],[0.3333333333333333,\"#9c179e\"],[0.4444444444444444,\"#bd3786\"],[0.5555555555555556,\"#d8576b\"],[0.6666666666666666,\"#ed7953\"],[0.7777777777777778,\"#fb9f3a\"],[0.8888888888888888,\"#fdca26\"],[1.0,\"#f0f921\"]]}],\"contourcarpet\":[{\"type\":\"contourcarpet\",\"colorbar\":{\"outlinewidth\":0,\"ticks\":\"\"}}],\"contour\":[{\"type\":\"contour\",\"colorbar\":{\"outlinewidth\":0,\"ticks\":\"\"},\"colorscale\":[[0.0,\"#0d0887\"],[0.1111111111111111,\"#46039f\"],[0.2222222222222222,\"#7201a8\"],[0.3333333333333333,\"#9c179e\"],[0.4444444444444444,\"#bd3786\"],[0.5555555555555556,\"#d8576b\"],[0.6666666666666666,\"#ed7953\"],[0.7777777777777778,\"#fb9f3a\"],[0.8888888888888888,\"#fdca26\"],[1.0,\"#f0f921\"]]}],\"surface\":[{\"type\":\"surface\",\"colorbar\":{\"outlinewidth\":0,\"ticks\":\"\"},\"colorscale\":[[0.0,\"#0d0887\"],[0.1111111111111111,\"#46039f\"],[0.2222222222222222,\"#7201a8\"],[0.3333333333333333,\"#9c179e\"],[0.4444444444444444,\"#bd3786\"],[0.5555555555555556,\"#d8576b\"],[0.6666666666666666,\"#ed7953\"],[0.7777777777777778,\"#fb9f3a\"],[0.8888888888888888,\"#fdca26\"],[1.0,\"#f0f921\"]]}],\"mesh3d\":[{\"type\":\"mesh3d\",\"colorbar\":{\"outlinewidth\":0,\"ticks\":\"\"}}],\"scatter\":[{\"fillpattern\":{\"fillmode\":\"overlay\",\"size\":10,\"solidity\":0.2},\"type\":\"scatter\"}],\"parcoords\":[{\"type\":\"parcoords\",\"line\":{\"colorbar\":{\"outlinewidth\":0,\"ticks\":\"\"}}}],\"scatterpolargl\":[{\"type\":\"scatterpolargl\",\"marker\":{\"colorbar\":{\"outlinewidth\":0,\"ticks\":\"\"}}}],\"bar\":[{\"error_x\":{\"color\":\"#2a3f5f\"},\"error_y\":{\"color\":\"#2a3f5f\"},\"marker\":{\"line\":{\"color\":\"#E5ECF6\",\"width\":0.5},\"pattern\":{\"fillmode\":\"overlay\",\"size\":10,\"solidity\":0.2}},\"type\":\"bar\"}],\"scattergeo\":[{\"type\":\"scattergeo\",\"marker\":{\"colorbar\":{\"outlinewidth\":0,\"ticks\":\"\"}}}],\"scatterpolar\":[{\"type\":\"scatterpolar\",\"marker\":{\"colorbar\":{\"outlinewidth\":0,\"ticks\":\"\"}}}],\"histogram\":[{\"marker\":{\"pattern\":{\"fillmode\":\"overlay\",\"size\":10,\"solidity\":0.2}},\"type\":\"histogram\"}],\"scattergl\":[{\"type\":\"scattergl\",\"marker\":{\"colorbar\":{\"outlinewidth\":0,\"ticks\":\"\"}}}],\"scatter3d\":[{\"type\":\"scatter3d\",\"line\":{\"colorbar\":{\"outlinewidth\":0,\"ticks\":\"\"}},\"marker\":{\"colorbar\":{\"outlinewidth\":0,\"ticks\":\"\"}}}],\"scattermapbox\":[{\"type\":\"scattermapbox\",\"marker\":{\"colorbar\":{\"outlinewidth\":0,\"ticks\":\"\"}}}],\"scatterternary\":[{\"type\":\"scatterternary\",\"marker\":{\"colorbar\":{\"outlinewidth\":0,\"ticks\":\"\"}}}],\"scattercarpet\":[{\"type\":\"scattercarpet\",\"marker\":{\"colorbar\":{\"outlinewidth\":0,\"ticks\":\"\"}}}],\"carpet\":[{\"aaxis\":{\"endlinecolor\":\"#2a3f5f\",\"gridcolor\":\"white\",\"linecolor\":\"white\",\"minorgridcolor\":\"white\",\"startlinecolor\":\"#2a3f5f\"},\"baxis\":{\"endlinecolor\":\"#2a3f5f\",\"gridcolor\":\"white\",\"linecolor\":\"white\",\"minorgridcolor\":\"white\",\"startlinecolor\":\"#2a3f5f\"},\"type\":\"carpet\"}],\"table\":[{\"cells\":{\"fill\":{\"color\":\"#EBF0F8\"},\"line\":{\"color\":\"white\"}},\"header\":{\"fill\":{\"color\":\"#C8D4E3\"},\"line\":{\"color\":\"white\"}},\"type\":\"table\"}],\"barpolar\":[{\"marker\":{\"line\":{\"color\":\"#E5ECF6\",\"width\":0.5},\"pattern\":{\"fillmode\":\"overlay\",\"size\":10,\"solidity\":0.2}},\"type\":\"barpolar\"}],\"pie\":[{\"automargin\":true,\"type\":\"pie\"}]},\"layout\":{\"autotypenumbers\":\"strict\",\"colorway\":[\"#636efa\",\"#EF553B\",\"#00cc96\",\"#ab63fa\",\"#FFA15A\",\"#19d3f3\",\"#FF6692\",\"#B6E880\",\"#FF97FF\",\"#FECB52\"],\"font\":{\"color\":\"#2a3f5f\"},\"hovermode\":\"closest\",\"hoverlabel\":{\"align\":\"left\"},\"paper_bgcolor\":\"white\",\"plot_bgcolor\":\"#E5ECF6\",\"polar\":{\"bgcolor\":\"#E5ECF6\",\"angularaxis\":{\"gridcolor\":\"white\",\"linecolor\":\"white\",\"ticks\":\"\"},\"radialaxis\":{\"gridcolor\":\"white\",\"linecolor\":\"white\",\"ticks\":\"\"}},\"ternary\":{\"bgcolor\":\"#E5ECF6\",\"aaxis\":{\"gridcolor\":\"white\",\"linecolor\":\"white\",\"ticks\":\"\"},\"baxis\":{\"gridcolor\":\"white\",\"linecolor\":\"white\",\"ticks\":\"\"},\"caxis\":{\"gridcolor\":\"white\",\"linecolor\":\"white\",\"ticks\":\"\"}},\"coloraxis\":{\"colorbar\":{\"outlinewidth\":0,\"ticks\":\"\"}},\"colorscale\":{\"sequential\":[[0.0,\"#0d0887\"],[0.1111111111111111,\"#46039f\"],[0.2222222222222222,\"#7201a8\"],[0.3333333333333333,\"#9c179e\"],[0.4444444444444444,\"#bd3786\"],[0.5555555555555556,\"#d8576b\"],[0.6666666666666666,\"#ed7953\"],[0.7777777777777778,\"#fb9f3a\"],[0.8888888888888888,\"#fdca26\"],[1.0,\"#f0f921\"]],\"sequentialminus\":[[0.0,\"#0d0887\"],[0.1111111111111111,\"#46039f\"],[0.2222222222222222,\"#7201a8\"],[0.3333333333333333,\"#9c179e\"],[0.4444444444444444,\"#bd3786\"],[0.5555555555555556,\"#d8576b\"],[0.6666666666666666,\"#ed7953\"],[0.7777777777777778,\"#fb9f3a\"],[0.8888888888888888,\"#fdca26\"],[1.0,\"#f0f921\"]],\"diverging\":[[0,\"#8e0152\"],[0.1,\"#c51b7d\"],[0.2,\"#de77ae\"],[0.3,\"#f1b6da\"],[0.4,\"#fde0ef\"],[0.5,\"#f7f7f7\"],[0.6,\"#e6f5d0\"],[0.7,\"#b8e186\"],[0.8,\"#7fbc41\"],[0.9,\"#4d9221\"],[1,\"#276419\"]]},\"xaxis\":{\"gridcolor\":\"white\",\"linecolor\":\"white\",\"ticks\":\"\",\"title\":{\"standoff\":15},\"zerolinecolor\":\"white\",\"automargin\":true,\"zerolinewidth\":2},\"yaxis\":{\"gridcolor\":\"white\",\"linecolor\":\"white\",\"ticks\":\"\",\"title\":{\"standoff\":15},\"zerolinecolor\":\"white\",\"automargin\":true,\"zerolinewidth\":2},\"scene\":{\"xaxis\":{\"backgroundcolor\":\"#E5ECF6\",\"gridcolor\":\"white\",\"linecolor\":\"white\",\"showbackground\":true,\"ticks\":\"\",\"zerolinecolor\":\"white\",\"gridwidth\":2},\"yaxis\":{\"backgroundcolor\":\"#E5ECF6\",\"gridcolor\":\"white\",\"linecolor\":\"white\",\"showbackground\":true,\"ticks\":\"\",\"zerolinecolor\":\"white\",\"gridwidth\":2},\"zaxis\":{\"backgroundcolor\":\"#E5ECF6\",\"gridcolor\":\"white\",\"linecolor\":\"white\",\"showbackground\":true,\"ticks\":\"\",\"zerolinecolor\":\"white\",\"gridwidth\":2}},\"shapedefaults\":{\"line\":{\"color\":\"#2a3f5f\"}},\"annotationdefaults\":{\"arrowcolor\":\"#2a3f5f\",\"arrowhead\":0,\"arrowwidth\":1},\"geo\":{\"bgcolor\":\"white\",\"landcolor\":\"#E5ECF6\",\"subunitcolor\":\"white\",\"showland\":true,\"showlakes\":true,\"lakecolor\":\"white\"},\"title\":{\"x\":0.05},\"mapbox\":{\"style\":\"light\"}}},\"xaxis\":{\"anchor\":\"y\",\"domain\":[0.0,1.0],\"title\":{\"text\":\"index\"}},\"yaxis\":{\"anchor\":\"x\",\"domain\":[0.0,1.0],\"title\":{\"text\":\"Deviation Score\"}},\"coloraxis\":{\"colorbar\":{\"title\":{\"text\":\"anomaly_label\"}},\"colorscale\":[[0.0,\"#0d0887\"],[0.1111111111111111,\"#46039f\"],[0.2222222222222222,\"#7201a8\"],[0.3333333333333333,\"#9c179e\"],[0.4444444444444444,\"#bd3786\"],[0.5555555555555556,\"#d8576b\"],[0.6666666666666666,\"#ed7953\"],[0.7777777777777778,\"#fb9f3a\"],[0.8888888888888888,\"#fdca26\"],[1.0,\"#f0f921\"]]},\"legend\":{\"tracegroupgap\":0},\"title\":{\"text\":\"Anomaly Detection for Synthetic Data (Logs data.txt)\"}},                        {\"responsive\": true}                    ).then(function(){\n",
              "                            \n",
              "var gd = document.getElementById('02864ed1-ce30-40ca-b471-ffd5218a7c8b');\n",
              "var x = new MutationObserver(function (mutations, observer) {{\n",
              "        var display = window.getComputedStyle(gd).display;\n",
              "        if (!display || display === 'none') {{\n",
              "            console.log([gd, 'removed!']);\n",
              "            Plotly.purge(gd);\n",
              "            observer.disconnect();\n",
              "        }}\n",
              "}});\n",
              "\n",
              "// Listen for the removal of the full notebook cells\n",
              "var notebookContainer = gd.closest('#notebook-container');\n",
              "if (notebookContainer) {{\n",
              "    x.observe(notebookContainer, {childList: true});\n",
              "}}\n",
              "\n",
              "// Listen for the clearing of the current output cell\n",
              "var outputEl = gd.closest('.output');\n",
              "if (outputEl) {{\n",
              "    x.observe(outputEl, {childList: true});\n",
              "}}\n",
              "\n",
              "                        })                };                            </script>        </div>\n",
              "</body>\n",
              "</html>"
            ]
          },
          "metadata": {}
        }
      ]
    },
    {
      "cell_type": "markdown",
      "source": [
        "For Real Data"
      ],
      "metadata": {
        "id": "j_EJJwb0zb8S"
      }
    },
    {
      "cell_type": "code",
      "source": [
        "# Visualization\n",
        "fig = px.scatter(df, x=df.index, y='behavior_deviation_score', color='anomaly_label',\n",
        "                 title=f'Anomaly Detection for {file_selector.value}',\n",
        "                 labels={'behavior_deviation_score': 'Deviation Score', 'index': 'Data Entry'})\n",
        "fig.show()"
      ],
      "metadata": {
        "colab": {
          "base_uri": "https://localhost:8080/",
          "height": 542
        },
        "id": "-oOpM_qryzCV",
        "outputId": "867b8306-98eb-4755-dadb-013785bf07c2"
      },
      "execution_count": null,
      "outputs": [
        {
          "output_type": "display_data",
          "data": {
            "text/html": [
              "<html>\n",
              "<head><meta charset=\"utf-8\" /></head>\n",
              "<body>\n",
              "    <div>            <script src=\"https://cdnjs.cloudflare.com/ajax/libs/mathjax/2.7.5/MathJax.js?config=TeX-AMS-MML_SVG\"></script><script type=\"text/javascript\">if (window.MathJax && window.MathJax.Hub && window.MathJax.Hub.Config) {window.MathJax.Hub.Config({SVG: {font: \"STIX-Web\"}});}</script>                <script type=\"text/javascript\">window.PlotlyConfig = {MathJaxConfig: 'local'};</script>\n",
              "        <script charset=\"utf-8\" src=\"https://cdn.plot.ly/plotly-2.35.2.min.js\"></script>                <div id=\"ca1a07c4-22ed-450a-8d55-1fdb6823653a\" class=\"plotly-graph-div\" style=\"height:525px; width:100%;\"></div>            <script type=\"text/javascript\">                                    window.PLOTLYENV=window.PLOTLYENV || {};                                    if (document.getElementById(\"ca1a07c4-22ed-450a-8d55-1fdb6823653a\")) {                    Plotly.newPlot(                        \"ca1a07c4-22ed-450a-8d55-1fdb6823653a\",                        [{\"hovertemplate\":\"Data Entry=%{x}\\u003cbr\\u003eDeviation Score=%{y}\\u003cbr\\u003eanomaly_label=%{marker.color}\\u003cextra\\u003e\\u003c\\u002fextra\\u003e\",\"legendgroup\":\"\",\"marker\":{\"color\":[1,1,1,1,1,1,1,1,1,1,1,1,1,1,1,1,1,1,1,1,1,1,1,1,1,1,1,1,1,1,1,1,1,1,1,1,1,1,1,1,1,1,1,1,1,1,1,1,1,1,1,1,1,1,1,1,1,1,1,1,1,1,-1,1,1,1,1,-1,1,1,-1,1,-1,-1,1,1,1,1,1,1,1,1,1,1,1,1,1,1,1,1,1,1,1,1,1,1,1,1,1,1,1,1,-1,-1,-1,1,1,1,1,1,1,1,1,1,1,1,1,1,1,1,1,1,1,1,1,1,1,1,1,1,1,1,1,1,1,1,1,1,1,1,1,1,1,1,1,1,1,1,1,1,1,1,1,1,1,1,1,1,1,1,1,1,1,1,1,1,1,1,1,-1,1],\"coloraxis\":\"coloraxis\",\"symbol\":\"circle\"},\"mode\":\"markers\",\"name\":\"\",\"orientation\":\"v\",\"showlegend\":false,\"x\":[0,1,2,3,4,5,6,7,8,9,10,11,12,13,14,15,16,17,18,19,20,21,22,23,24,25,26,27,28,29,30,31,32,33,34,35,36,37,38,39,40,41,42,43,44,45,46,47,48,49,50,51,52,53,54,55,56,57,58,59,60,61,62,63,64,65,66,67,68,69,70,71,72,73,74,75,76,77,78,79,80,81,82,83,84,85,86,87,88,89,90,91,92,93,94,95,96,97,98,99,100,101,102,103,104,105,106,107,108,109,110,111,112,113,114,115,116,117,118,119,120,121,122,123,124,125,126,127,128,129,130,131,132,133,134,135,136,137,138,139,140,141,142,143,144,145,146,147,148,149,150,151,152,153,154,155,156,157,158,159,160,161,162,163,164,165,166,167,168,169,170],\"xaxis\":\"x\",\"y\":[0.030773930248507386,0.012729789651314827,0.013684396907935825,0.013684396907935825,0.013684396907935825,0.013684396907935825,0.013684396907935825,0.013684396907935825,0.024939818080267573,0.029885893681798614,0.01847079562429438,0.021905278644280823,0.013684396907935825,0.023778480229700305,0.02701566650524284,0.012729789651314827,0.024939818080267573,0.029885893681798614,0.02701566650524284,0.012729789651314827,0.013684396907935825,0.013684396907935825,0.024939818080267573,0.029885893681798614,0.013684396907935825,0.02701566650524284,0.013684396907935825,0.013684396907935825,0.013684396907935825,0.012729789651314827,0.023606338910396596,0.0013365642880245887,0.01661825405567041,0.023241965343557824,0.02056549206082503,0.014486186836172588,0.01684910878631085,0.0128455899893396,0.019994082996721396,0.013478292433723116,0.02122026461577098,0.0037889046905286716,0.015349204802329208,0.017586509658110427,0.015928817589051236,0.01684910878631085,0.02520610173005139,0.021502464867857618,0.020113577845595365,0.014316531698255641,0.0179303317403115,0.0033921822004074342,0.010611642269905519,0.013525923844774301,0.020486395739761742,0.011691572693125318,0.025222225268959897,0.015730932488841942,0.009997024520973896,0.013156935508280287,0.019019363741602402,0.01684910878631085,-0.00746702207652189,0.007492296887472272,0.015266827365060243,0.019203165450624116,0.004727269669001388,-0.0020003683372569747,0.021881759297906256,0.01030596585921223,-0.004446720523759273,0.010677267404070823,-0.023025004641771485,-0.006337122922494998,0.005329168710719756,0.015285370986502123,0.027827922883802647,0.01684910878631085,0.010755337072846372,0.008703509913696228,0.012963583431397252,0.01436240941270056,0.013981004182807955,0.016519062177905164,0.010449085933184554,0.011800306821505513,0.01684910878631085,0.0128455899893396,0.015551303748923162,0.01950773086559704,0.012751142407772253,0.01950773086559704,0.018033806206072145,0.01887589535001305,0.011602154951857457,0.010126222575722432,0.009384500232799298,0.024759442168483747,0.013350065056105198,0.017077061301696728,0.022871120650297505,0.01003045056884666,-0.008281925164016712,-0.0011080558250807226,-0.0010668715496736092,0.013684396907935825,0.013684396907935825,0.013684396907935825,0.013684396907935825,0.013608736049462,0.01826040985714572,0.02391242585500092,0.015437094544569596,0.013280108488663955,0.026399016197472702,0.021081282186078076,0.023005044480065684,0.021307226121683565,0.016312013241273016,0.015890588424705865,0.01705028761085081,0.01826110404305059,0.017612932037391005,0.021307226121683565,0.007283267555078188,0.02067263070463582,0.02740946354526863,0.02286209692674329,0.010978606350829923,0.019927086307951314,0.01879844380165019,0.016587961971180953,0.020794874515219608,0.0010668715496735537,0.012729789651314827,0.015437094544569596,0.02286209692674329,0.026611670918574137,0.022327394586702465,0.010160954309595516,0.017127392916863104,0.019927086307951314,0.010978606350829923,0.027889550565783017,0.00898224432170247,0.005583613757964734,0.027886929538996574,0.014286396712386129,0.02400563677758616,0.02419321771416838,0.02225307883965566,0.009759375373951495,0.02943658643645619,0.01164271095294872,0.021291456609713655,0.015493165484350424,0.014193418075932662,0.029857281183266637,0.0193402018161683,0.01716289901330137,0.01083139538214295,0.013105814973997099,0.025060057912823286,0.02341311011254754,0.014041690420399211,0.0011583871429377002,0.01551267621229968,0.010245376843276532,0.013684396907935825,-0.027930556921410665,0.03048716577592614],\"yaxis\":\"y\",\"type\":\"scatter\"}],                        {\"template\":{\"data\":{\"histogram2dcontour\":[{\"type\":\"histogram2dcontour\",\"colorbar\":{\"outlinewidth\":0,\"ticks\":\"\"},\"colorscale\":[[0.0,\"#0d0887\"],[0.1111111111111111,\"#46039f\"],[0.2222222222222222,\"#7201a8\"],[0.3333333333333333,\"#9c179e\"],[0.4444444444444444,\"#bd3786\"],[0.5555555555555556,\"#d8576b\"],[0.6666666666666666,\"#ed7953\"],[0.7777777777777778,\"#fb9f3a\"],[0.8888888888888888,\"#fdca26\"],[1.0,\"#f0f921\"]]}],\"choropleth\":[{\"type\":\"choropleth\",\"colorbar\":{\"outlinewidth\":0,\"ticks\":\"\"}}],\"histogram2d\":[{\"type\":\"histogram2d\",\"colorbar\":{\"outlinewidth\":0,\"ticks\":\"\"},\"colorscale\":[[0.0,\"#0d0887\"],[0.1111111111111111,\"#46039f\"],[0.2222222222222222,\"#7201a8\"],[0.3333333333333333,\"#9c179e\"],[0.4444444444444444,\"#bd3786\"],[0.5555555555555556,\"#d8576b\"],[0.6666666666666666,\"#ed7953\"],[0.7777777777777778,\"#fb9f3a\"],[0.8888888888888888,\"#fdca26\"],[1.0,\"#f0f921\"]]}],\"heatmap\":[{\"type\":\"heatmap\",\"colorbar\":{\"outlinewidth\":0,\"ticks\":\"\"},\"colorscale\":[[0.0,\"#0d0887\"],[0.1111111111111111,\"#46039f\"],[0.2222222222222222,\"#7201a8\"],[0.3333333333333333,\"#9c179e\"],[0.4444444444444444,\"#bd3786\"],[0.5555555555555556,\"#d8576b\"],[0.6666666666666666,\"#ed7953\"],[0.7777777777777778,\"#fb9f3a\"],[0.8888888888888888,\"#fdca26\"],[1.0,\"#f0f921\"]]}],\"heatmapgl\":[{\"type\":\"heatmapgl\",\"colorbar\":{\"outlinewidth\":0,\"ticks\":\"\"},\"colorscale\":[[0.0,\"#0d0887\"],[0.1111111111111111,\"#46039f\"],[0.2222222222222222,\"#7201a8\"],[0.3333333333333333,\"#9c179e\"],[0.4444444444444444,\"#bd3786\"],[0.5555555555555556,\"#d8576b\"],[0.6666666666666666,\"#ed7953\"],[0.7777777777777778,\"#fb9f3a\"],[0.8888888888888888,\"#fdca26\"],[1.0,\"#f0f921\"]]}],\"contourcarpet\":[{\"type\":\"contourcarpet\",\"colorbar\":{\"outlinewidth\":0,\"ticks\":\"\"}}],\"contour\":[{\"type\":\"contour\",\"colorbar\":{\"outlinewidth\":0,\"ticks\":\"\"},\"colorscale\":[[0.0,\"#0d0887\"],[0.1111111111111111,\"#46039f\"],[0.2222222222222222,\"#7201a8\"],[0.3333333333333333,\"#9c179e\"],[0.4444444444444444,\"#bd3786\"],[0.5555555555555556,\"#d8576b\"],[0.6666666666666666,\"#ed7953\"],[0.7777777777777778,\"#fb9f3a\"],[0.8888888888888888,\"#fdca26\"],[1.0,\"#f0f921\"]]}],\"surface\":[{\"type\":\"surface\",\"colorbar\":{\"outlinewidth\":0,\"ticks\":\"\"},\"colorscale\":[[0.0,\"#0d0887\"],[0.1111111111111111,\"#46039f\"],[0.2222222222222222,\"#7201a8\"],[0.3333333333333333,\"#9c179e\"],[0.4444444444444444,\"#bd3786\"],[0.5555555555555556,\"#d8576b\"],[0.6666666666666666,\"#ed7953\"],[0.7777777777777778,\"#fb9f3a\"],[0.8888888888888888,\"#fdca26\"],[1.0,\"#f0f921\"]]}],\"mesh3d\":[{\"type\":\"mesh3d\",\"colorbar\":{\"outlinewidth\":0,\"ticks\":\"\"}}],\"scatter\":[{\"fillpattern\":{\"fillmode\":\"overlay\",\"size\":10,\"solidity\":0.2},\"type\":\"scatter\"}],\"parcoords\":[{\"type\":\"parcoords\",\"line\":{\"colorbar\":{\"outlinewidth\":0,\"ticks\":\"\"}}}],\"scatterpolargl\":[{\"type\":\"scatterpolargl\",\"marker\":{\"colorbar\":{\"outlinewidth\":0,\"ticks\":\"\"}}}],\"bar\":[{\"error_x\":{\"color\":\"#2a3f5f\"},\"error_y\":{\"color\":\"#2a3f5f\"},\"marker\":{\"line\":{\"color\":\"#E5ECF6\",\"width\":0.5},\"pattern\":{\"fillmode\":\"overlay\",\"size\":10,\"solidity\":0.2}},\"type\":\"bar\"}],\"scattergeo\":[{\"type\":\"scattergeo\",\"marker\":{\"colorbar\":{\"outlinewidth\":0,\"ticks\":\"\"}}}],\"scatterpolar\":[{\"type\":\"scatterpolar\",\"marker\":{\"colorbar\":{\"outlinewidth\":0,\"ticks\":\"\"}}}],\"histogram\":[{\"marker\":{\"pattern\":{\"fillmode\":\"overlay\",\"size\":10,\"solidity\":0.2}},\"type\":\"histogram\"}],\"scattergl\":[{\"type\":\"scattergl\",\"marker\":{\"colorbar\":{\"outlinewidth\":0,\"ticks\":\"\"}}}],\"scatter3d\":[{\"type\":\"scatter3d\",\"line\":{\"colorbar\":{\"outlinewidth\":0,\"ticks\":\"\"}},\"marker\":{\"colorbar\":{\"outlinewidth\":0,\"ticks\":\"\"}}}],\"scattermapbox\":[{\"type\":\"scattermapbox\",\"marker\":{\"colorbar\":{\"outlinewidth\":0,\"ticks\":\"\"}}}],\"scatterternary\":[{\"type\":\"scatterternary\",\"marker\":{\"colorbar\":{\"outlinewidth\":0,\"ticks\":\"\"}}}],\"scattercarpet\":[{\"type\":\"scattercarpet\",\"marker\":{\"colorbar\":{\"outlinewidth\":0,\"ticks\":\"\"}}}],\"carpet\":[{\"aaxis\":{\"endlinecolor\":\"#2a3f5f\",\"gridcolor\":\"white\",\"linecolor\":\"white\",\"minorgridcolor\":\"white\",\"startlinecolor\":\"#2a3f5f\"},\"baxis\":{\"endlinecolor\":\"#2a3f5f\",\"gridcolor\":\"white\",\"linecolor\":\"white\",\"minorgridcolor\":\"white\",\"startlinecolor\":\"#2a3f5f\"},\"type\":\"carpet\"}],\"table\":[{\"cells\":{\"fill\":{\"color\":\"#EBF0F8\"},\"line\":{\"color\":\"white\"}},\"header\":{\"fill\":{\"color\":\"#C8D4E3\"},\"line\":{\"color\":\"white\"}},\"type\":\"table\"}],\"barpolar\":[{\"marker\":{\"line\":{\"color\":\"#E5ECF6\",\"width\":0.5},\"pattern\":{\"fillmode\":\"overlay\",\"size\":10,\"solidity\":0.2}},\"type\":\"barpolar\"}],\"pie\":[{\"automargin\":true,\"type\":\"pie\"}]},\"layout\":{\"autotypenumbers\":\"strict\",\"colorway\":[\"#636efa\",\"#EF553B\",\"#00cc96\",\"#ab63fa\",\"#FFA15A\",\"#19d3f3\",\"#FF6692\",\"#B6E880\",\"#FF97FF\",\"#FECB52\"],\"font\":{\"color\":\"#2a3f5f\"},\"hovermode\":\"closest\",\"hoverlabel\":{\"align\":\"left\"},\"paper_bgcolor\":\"white\",\"plot_bgcolor\":\"#E5ECF6\",\"polar\":{\"bgcolor\":\"#E5ECF6\",\"angularaxis\":{\"gridcolor\":\"white\",\"linecolor\":\"white\",\"ticks\":\"\"},\"radialaxis\":{\"gridcolor\":\"white\",\"linecolor\":\"white\",\"ticks\":\"\"}},\"ternary\":{\"bgcolor\":\"#E5ECF6\",\"aaxis\":{\"gridcolor\":\"white\",\"linecolor\":\"white\",\"ticks\":\"\"},\"baxis\":{\"gridcolor\":\"white\",\"linecolor\":\"white\",\"ticks\":\"\"},\"caxis\":{\"gridcolor\":\"white\",\"linecolor\":\"white\",\"ticks\":\"\"}},\"coloraxis\":{\"colorbar\":{\"outlinewidth\":0,\"ticks\":\"\"}},\"colorscale\":{\"sequential\":[[0.0,\"#0d0887\"],[0.1111111111111111,\"#46039f\"],[0.2222222222222222,\"#7201a8\"],[0.3333333333333333,\"#9c179e\"],[0.4444444444444444,\"#bd3786\"],[0.5555555555555556,\"#d8576b\"],[0.6666666666666666,\"#ed7953\"],[0.7777777777777778,\"#fb9f3a\"],[0.8888888888888888,\"#fdca26\"],[1.0,\"#f0f921\"]],\"sequentialminus\":[[0.0,\"#0d0887\"],[0.1111111111111111,\"#46039f\"],[0.2222222222222222,\"#7201a8\"],[0.3333333333333333,\"#9c179e\"],[0.4444444444444444,\"#bd3786\"],[0.5555555555555556,\"#d8576b\"],[0.6666666666666666,\"#ed7953\"],[0.7777777777777778,\"#fb9f3a\"],[0.8888888888888888,\"#fdca26\"],[1.0,\"#f0f921\"]],\"diverging\":[[0,\"#8e0152\"],[0.1,\"#c51b7d\"],[0.2,\"#de77ae\"],[0.3,\"#f1b6da\"],[0.4,\"#fde0ef\"],[0.5,\"#f7f7f7\"],[0.6,\"#e6f5d0\"],[0.7,\"#b8e186\"],[0.8,\"#7fbc41\"],[0.9,\"#4d9221\"],[1,\"#276419\"]]},\"xaxis\":{\"gridcolor\":\"white\",\"linecolor\":\"white\",\"ticks\":\"\",\"title\":{\"standoff\":15},\"zerolinecolor\":\"white\",\"automargin\":true,\"zerolinewidth\":2},\"yaxis\":{\"gridcolor\":\"white\",\"linecolor\":\"white\",\"ticks\":\"\",\"title\":{\"standoff\":15},\"zerolinecolor\":\"white\",\"automargin\":true,\"zerolinewidth\":2},\"scene\":{\"xaxis\":{\"backgroundcolor\":\"#E5ECF6\",\"gridcolor\":\"white\",\"linecolor\":\"white\",\"showbackground\":true,\"ticks\":\"\",\"zerolinecolor\":\"white\",\"gridwidth\":2},\"yaxis\":{\"backgroundcolor\":\"#E5ECF6\",\"gridcolor\":\"white\",\"linecolor\":\"white\",\"showbackground\":true,\"ticks\":\"\",\"zerolinecolor\":\"white\",\"gridwidth\":2},\"zaxis\":{\"backgroundcolor\":\"#E5ECF6\",\"gridcolor\":\"white\",\"linecolor\":\"white\",\"showbackground\":true,\"ticks\":\"\",\"zerolinecolor\":\"white\",\"gridwidth\":2}},\"shapedefaults\":{\"line\":{\"color\":\"#2a3f5f\"}},\"annotationdefaults\":{\"arrowcolor\":\"#2a3f5f\",\"arrowhead\":0,\"arrowwidth\":1},\"geo\":{\"bgcolor\":\"white\",\"landcolor\":\"#E5ECF6\",\"subunitcolor\":\"white\",\"showland\":true,\"showlakes\":true,\"lakecolor\":\"white\"},\"title\":{\"x\":0.05},\"mapbox\":{\"style\":\"light\"}}},\"xaxis\":{\"anchor\":\"y\",\"domain\":[0.0,1.0],\"title\":{\"text\":\"Data Entry\"}},\"yaxis\":{\"anchor\":\"x\",\"domain\":[0.0,1.0],\"title\":{\"text\":\"Deviation Score\"}},\"coloraxis\":{\"colorbar\":{\"title\":{\"text\":\"anomaly_label\"}},\"colorscale\":[[0.0,\"#0d0887\"],[0.1111111111111111,\"#46039f\"],[0.2222222222222222,\"#7201a8\"],[0.3333333333333333,\"#9c179e\"],[0.4444444444444444,\"#bd3786\"],[0.5555555555555556,\"#d8576b\"],[0.6666666666666666,\"#ed7953\"],[0.7777777777777778,\"#fb9f3a\"],[0.8888888888888888,\"#fdca26\"],[1.0,\"#f0f921\"]]},\"legend\":{\"tracegroupgap\":0},\"title\":{\"text\":\"Anomaly Detection for Logs data.txt\"}},                        {\"responsive\": true}                    ).then(function(){\n",
              "                            \n",
              "var gd = document.getElementById('ca1a07c4-22ed-450a-8d55-1fdb6823653a');\n",
              "var x = new MutationObserver(function (mutations, observer) {{\n",
              "        var display = window.getComputedStyle(gd).display;\n",
              "        if (!display || display === 'none') {{\n",
              "            console.log([gd, 'removed!']);\n",
              "            Plotly.purge(gd);\n",
              "            observer.disconnect();\n",
              "        }}\n",
              "}});\n",
              "\n",
              "// Listen for the removal of the full notebook cells\n",
              "var notebookContainer = gd.closest('#notebook-container');\n",
              "if (notebookContainer) {{\n",
              "    x.observe(notebookContainer, {childList: true});\n",
              "}}\n",
              "\n",
              "// Listen for the clearing of the current output cell\n",
              "var outputEl = gd.closest('.output');\n",
              "if (outputEl) {{\n",
              "    x.observe(outputEl, {childList: true});\n",
              "}}\n",
              "\n",
              "                        })                };                            </script>        </div>\n",
              "</body>\n",
              "</html>"
            ]
          },
          "metadata": {}
        }
      ]
    }
  ]
}